{
  "nbformat": 4,
  "nbformat_minor": 0,
  "metadata": {
    "colab": {
      "provenance": [],
      "include_colab_link": true
    },
    "kernelspec": {
      "name": "python3",
      "display_name": "Python 3"
    },
    "language_info": {
      "name": "python"
    }
  },
  "cells": [
    {
      "cell_type": "markdown",
      "metadata": {
        "id": "view-in-github",
        "colab_type": "text"
      },
      "source": [
        "<a href=\"https://colab.research.google.com/github/JunTogo/sample_ai_app/blob/main/section_4/02_webapp.ipynb\" target=\"_parent\"><img src=\"https://colab.research.google.com/assets/colab-badge.svg\" alt=\"Open In Colab\"/></a>"
      ]
    },
    {
      "cell_type": "markdown",
      "metadata": {
        "id": "8kW_qXJVTjic"
      },
      "source": [
        "# 画像認識アプリ\n",
        "Streamlitを使い、画像を認識するアプリを作りましょう。  \n",
        "フレームワークにはPyTorch使い、オリジナルのCNNモデルを読み込んで使用します。"
      ]
    },
    {
      "cell_type": "markdown",
      "source": [
        "## ●ライブラリのインストール\n",
        "Streamlit、およびアプリの動作の確認に使用する「ngrok」をインストールします。"
      ],
      "metadata": {
        "id": "vRJCuxALcgkb"
      }
    },
    {
      "cell_type": "code",
      "execution_count": 1,
      "metadata": {
        "id": "Pbqipzj3nCy4"
      },
      "outputs": [],
      "source": [
        "!pip install streamlit==1.20.0 --quiet\n",
        "!pip install pyngrok --quiet"
      ]
    },
    {
      "cell_type": "markdown",
      "source": [
        "Streamlit、およびngrokをインポートしておきます。  \n",
        "エラーが発生する場合は、「ランタイム」→「ランタイムを再起動」によりランタイムを再起動し、再びコードセルを上から順に実行しましょう。"
      ],
      "metadata": {
        "id": "husUkYy5dhZ4"
      }
    },
    {
      "cell_type": "code",
      "source": [
        "import streamlit as st\n",
        "from pyngrok import ngrok"
      ],
      "metadata": {
        "id": "OsHcq-kaDwIi"
      },
      "execution_count": 2,
      "outputs": []
    },
    {
      "cell_type": "markdown",
      "source": [
        "## ●「モデル」を扱うファイル\n",
        "画像認識の訓練済みモデルを読み込み、予測を行うコードを「model.py」に書き込みます。  "
      ],
      "metadata": {
        "id": "KoBcfQYBTUSx"
      }
    },
    {
      "cell_type": "code",
      "source": [
        "%%writefile model.py\n",
        "# 以下を「model.py」に書き込み\n",
        "import torch\n",
        "import torch.nn as nn\n",
        "import torch.nn.functional as F\n",
        "from torchvision import models, transforms\n",
        "from PIL import Image\n",
        "\n",
        "classes_ja = [\"飛行機\", \"自動車\", \"鳥\", \"猫\", \"鹿\", \"犬\", \"カエル\", \"馬\", \"船\", \"トラック\"]\n",
        "classes_en = [\"airplane\", \"automobile\", \"bird\", \"cat\", \"deer\", \"dog\", \"frog\", \"horse\", \"ship\", \"truck\"]\n",
        "n_class = len(classes_ja)\n",
        "img_size = 32\n",
        "\n",
        "# CNNのモデル\n",
        "class Net(nn.Module):\n",
        "    def __init__(self):\n",
        "        super().__init__()\n",
        "        self.conv1 = nn.Conv2d(3, 6, 5)\n",
        "        self.pool = nn.MaxPool2d(2, 2)\n",
        "        self.conv2 = nn.Conv2d(6, 16, 5)\n",
        "        self.fc1 = nn.Linear(16*5*5, 256)\n",
        "        self.dropout = nn.Dropout(p=0.5)\n",
        "        self.fc2 = nn.Linear(256, 10)\n",
        "\n",
        "    def forward(self, x):\n",
        "        x = self.pool(F.relu(self.conv1(x)))\n",
        "        x = self.pool(F.relu(self.conv2(x)))\n",
        "        x = x.view(-1, 16*5*5)\n",
        "        x = F.relu(self.fc1(x))\n",
        "        x = self.dropout(x)\n",
        "        x = self.fc2(x)\n",
        "        return x\n",
        "\n",
        "def predict(img):\n",
        "    # モデルへの入力\n",
        "    img = img.convert(\"RGB\")\n",
        "    img = img.resize((img_size, img_size))\n",
        "    transform = transforms.Compose([transforms.ToTensor(),\n",
        "                                    transforms.Normalize((0.0, 0.0, 0.0), (1.0, 1.0, 1.0))  # 平均値を0、標準偏差を1に\n",
        "                                ])\n",
        "    img = transform(img)\n",
        "    x = img.reshape(1, 3, img_size, img_size)\n",
        "\n",
        "    # 訓練済みモデル\n",
        "    net = Net()\n",
        "    net.load_state_dict(torch.load(\n",
        "        \"model_cnn.pth\", map_location=torch.device(\"cpu\")\n",
        "        ))\n",
        "\n",
        "    # 予測\n",
        "    net.eval()\n",
        "    y = net(x)\n",
        "\n",
        "    # 結果を返す\n",
        "    y_prob = torch.nn.functional.softmax(torch.squeeze(y))  # 確率で表す\n",
        "    sorted_prob, sorted_indices = torch.sort(y_prob, descending=True)  # 降順にソート\n",
        "    return [(classes_ja[idx], classes_en[idx], prob.item()) for idx, prob in zip(sorted_indices, sorted_prob)]"
      ],
      "metadata": {
        "id": "nmZpJOe9p6GF",
        "outputId": "b5877820-885e-4077-f7f7-998759f4cbbe",
        "colab": {
          "base_uri": "https://localhost:8080/"
        }
      },
      "execution_count": 4,
      "outputs": [
        {
          "output_type": "stream",
          "name": "stdout",
          "text": [
            "Overwriting model.py\n"
          ]
        }
      ]
    },
    {
      "cell_type": "markdown",
      "source": [
        "## ●アプリのコード\n",
        "画像認識アプリのコードを、「app.py」に書き込みます。  \n",
        "ローカルからアップロード、もしくはWebカメラで撮影した画像ファイルに、何が映っているのかを判定します。  \n",
        "なお、Webカメラはngrokが発行したURLではセキュリティ上動作しないので、今回は動作を確認できません。"
      ],
      "metadata": {
        "id": "5fOtVgU5duPe"
      }
    },
    {
      "cell_type": "code",
      "source": [
        "%%writefile app.py\n",
        "# 以下を「app.py」に書き込み\n",
        "import streamlit as st\n",
        "import matplotlib.pyplot as plt\n",
        "from PIL import Image\n",
        "from model import predict\n",
        "\n",
        "st.set_option(\"deprecation.showfileUploaderEncoding\", False)\n",
        "\n",
        "st.sidebar.title(\"画像認識アプリ\")\n",
        "st.sidebar.write(\"オリジナルの画像認識モデルを使って何の画像かを判定します。\")\n",
        "\n",
        "st.sidebar.write(\"\")\n",
        "\n",
        "img_source = st.sidebar.radio(\"画像のソースを選択してください。\",\n",
        "                              (\"画像をアップロード\", \"カメラで撮影\"))\n",
        "if img_source == \"画像をアップロード\":\n",
        "    img_file = st.sidebar.file_uploader(\"画像を選択してください。\", type=[\"png\", \"jpg\"])\n",
        "elif img_source == \"カメラで撮影\":\n",
        "    img_file = st.camera_input(\"カメラで撮影\")\n",
        "\n",
        "if img_file is not None:\n",
        "    with st.spinner(\"推定中...\"):\n",
        "        img = Image.open(img_file)\n",
        "        st.image(img, caption=\"対象の画像\", width=480)\n",
        "        st.write(\"\")\n",
        "\n",
        "        # 予測\n",
        "        results = predict(img)\n",
        "\n",
        "        # 結果の表示\n",
        "        st.subheader(\"判定結果\")\n",
        "        n_top = 3  # 確率が高い順に3位まで返す\n",
        "        for result in results[:n_top]:\n",
        "            st.write(str(round(result[2]*100, 2)) + \"%の確率で\" + result[0] + \"です。\")\n",
        "\n",
        "        # 円グラフの表示\n",
        "        pie_labels = [result[1] for result in results[:n_top]]\n",
        "        pie_labels.append(\"others\")\n",
        "        pie_probs = [result[2] for result in results[:n_top]]\n",
        "        pie_probs.append(sum([result[2] for result in results[n_top:]]))\n",
        "        fig, ax = plt.subplots()\n",
        "        wedgeprops={\"width\":0.3, \"edgecolor\":\"white\"}\n",
        "        textprops = {\"fontsize\":6}\n",
        "        ax.pie(pie_probs, labels=pie_labels, counterclock=False, startangle=90,\n",
        "               textprops=textprops, autopct=\"%.2f\", wedgeprops=wedgeprops)  # 円グラフ\n",
        "        st.pyplot(fig)"
      ],
      "metadata": {
        "id": "Ntj_BU3bnJli",
        "outputId": "8f4f5667-35dc-4344-a657-2fcadc1032fb",
        "colab": {
          "base_uri": "https://localhost:8080/"
        }
      },
      "execution_count": 5,
      "outputs": [
        {
          "output_type": "stream",
          "name": "stdout",
          "text": [
            "Writing app.py\n"
          ]
        }
      ]
    },
    {
      "cell_type": "markdown",
      "source": [
        "## ●Authtokenの設定\n",
        "ngrokで接続するために必要な「Authtoken」を設定します。  \n",
        "以下のコードの、  \n",
        "`!ngrok authtoken YourAuthtoken`  \n",
        "における  \n",
        "`YourAuthtoken`の箇所を、自分のAuthtokenに置き換えます。  \n",
        "Authtokenは、ngrokのサイトに登録すれば取得することができます。  \n",
        "https://ngrok.com/\n"
      ],
      "metadata": {
        "id": "j03EsJaHh4KK"
      }
    },
    {
      "cell_type": "code",
      "source": [
        "!ngrok authtoken 2o3DUB2wgkogsbeJs5preakG5Hx_6RvZBoFtuePahwfPSwNHp"
      ],
      "metadata": {
        "id": "mTfmORj2Dn7-",
        "outputId": "0a1dfd75-c392-4241-c9d8-a362e7bdea08",
        "colab": {
          "base_uri": "https://localhost:8080/"
        }
      },
      "execution_count": 6,
      "outputs": [
        {
          "output_type": "stream",
          "name": "stdout",
          "text": [
            "Authtoken saved to configuration file: /root/.config/ngrok/ngrok.yml\n"
          ]
        }
      ]
    },
    {
      "cell_type": "markdown",
      "source": [
        "## ●アプリの起動と動作確認\n",
        "streamlitの`run`コマンドでアプリを起動します。\n"
      ],
      "metadata": {
        "id": "CnobL05MkjB1"
      }
    },
    {
      "cell_type": "code",
      "source": [
        "!streamlit run app.py &>/dev/null&  # 「&>/dev/null&」により、出力を非表示にしてバックグランドジョブとして実行"
      ],
      "metadata": {
        "id": "W0jXlMXWK0vi"
      },
      "execution_count": 7,
      "outputs": []
    },
    {
      "cell_type": "markdown",
      "source": [
        "ngrokのプロセスを終了した上で、新たにポートを指定して接続します。  \n",
        "接続の結果、urlを取得できます。  \n",
        "ngrokの無料プランでは同時に1つのプロセスしか動かせないので、エラーが発生した場合は「ランタイム」→「セッションの管理」で不要なGoogle Colabのセッションを修了しましょう。  "
      ],
      "metadata": {
        "id": "W5RLCJ7Sl2x_"
      }
    },
    {
      "cell_type": "code",
      "source": [
        "ngrok.kill()  # プロセスの修了\n",
        "url = ngrok.connect(\"8501\").public_url  # 接続"
      ],
      "metadata": {
        "id": "v23ymsdLK3x7",
        "outputId": "0b3df021-c458-494b-9800-415f45cda9c7",
        "colab": {
          "base_uri": "https://localhost:8080/"
        }
      },
      "execution_count": 8,
      "outputs": [
        {
          "output_type": "stream",
          "name": "stderr",
          "text": [
            "INFO:pyngrok.ngrok:Opening tunnel named: http-8501-22a98efb-cd37-4cdf-9966-71b4996b1b38\n",
            "2024-10-30 05:55:46.729 INFO    pyngrok.ngrok: Opening tunnel named: http-8501-22a98efb-cd37-4cdf-9966-71b4996b1b38\n",
            "INFO:pyngrok.process.ngrok:t=2024-10-30T05:55:46+0000 lvl=info msg=\"no configuration paths supplied\"\n",
            "2024-10-30 05:55:46.756 INFO    pyngrok.process.ngrok: t=2024-10-30T05:55:46+0000 lvl=info msg=\"no configuration paths supplied\"\n",
            "INFO:pyngrok.process.ngrok:t=2024-10-30T05:55:46+0000 lvl=info msg=\"using configuration at default config path\" path=/root/.config/ngrok/ngrok.yml\n",
            "2024-10-30 05:55:46.762 INFO    pyngrok.process.ngrok: t=2024-10-30T05:55:46+0000 lvl=info msg=\"using configuration at default config path\" path=/root/.config/ngrok/ngrok.yml\n",
            "INFO:pyngrok.process.ngrok:t=2024-10-30T05:55:46+0000 lvl=info msg=\"open config file\" path=/root/.config/ngrok/ngrok.yml err=nil\n",
            "2024-10-30 05:55:46.767 INFO    pyngrok.process.ngrok: t=2024-10-30T05:55:46+0000 lvl=info msg=\"open config file\" path=/root/.config/ngrok/ngrok.yml err=nil\n",
            "INFO:pyngrok.process.ngrok:t=2024-10-30T05:55:46+0000 lvl=info msg=\"starting web service\" obj=web addr=127.0.0.1:4040 allow_hosts=[]\n",
            "2024-10-30 05:55:46.810 INFO    pyngrok.process.ngrok: t=2024-10-30T05:55:46+0000 lvl=info msg=\"starting web service\" obj=web addr=127.0.0.1:4040 allow_hosts=[]\n",
            "INFO:pyngrok.process.ngrok:t=2024-10-30T05:55:47+0000 lvl=info msg=\"client session established\" obj=tunnels.session\n",
            "2024-10-30 05:55:47.437 INFO    pyngrok.process.ngrok: t=2024-10-30T05:55:47+0000 lvl=info msg=\"client session established\" obj=tunnels.session\n",
            "INFO:pyngrok.process.ngrok:t=2024-10-30T05:55:47+0000 lvl=info msg=\"tunnel session started\" obj=tunnels.session\n",
            "2024-10-30 05:55:47.441 INFO    pyngrok.process.ngrok: t=2024-10-30T05:55:47+0000 lvl=info msg=\"tunnel session started\" obj=tunnels.session\n",
            "INFO:pyngrok.process.ngrok:t=2024-10-30T05:55:47+0000 lvl=info msg=start pg=/api/tunnels id=364ce12544452696\n",
            "2024-10-30 05:55:47.450 INFO    pyngrok.process.ngrok: t=2024-10-30T05:55:47+0000 lvl=info msg=start pg=/api/tunnels id=364ce12544452696\n",
            "INFO:pyngrok.process.ngrok:t=2024-10-30T05:55:47+0000 lvl=info msg=end pg=/api/tunnels id=364ce12544452696 status=200 dur=523.062µs\n",
            "2024-10-30 05:55:47.458 INFO    pyngrok.process.ngrok: t=2024-10-30T05:55:47+0000 lvl=info msg=end pg=/api/tunnels id=364ce12544452696 status=200 dur=523.062µs\n",
            "INFO:pyngrok.process.ngrok:t=2024-10-30T05:55:47+0000 lvl=info msg=start pg=/api/tunnels id=23cdda98b37c82cd\n",
            "2024-10-30 05:55:47.461 INFO    pyngrok.process.ngrok: t=2024-10-30T05:55:47+0000 lvl=info msg=start pg=/api/tunnels id=23cdda98b37c82cd\n",
            "INFO:pyngrok.process.ngrok:t=2024-10-30T05:55:47+0000 lvl=info msg=end pg=/api/tunnels id=23cdda98b37c82cd status=200 dur=125.067µs\n",
            "2024-10-30 05:55:47.466 INFO    pyngrok.process.ngrok: t=2024-10-30T05:55:47+0000 lvl=info msg=end pg=/api/tunnels id=23cdda98b37c82cd status=200 dur=125.067µs\n",
            "INFO:pyngrok.process.ngrok:t=2024-10-30T05:55:47+0000 lvl=info msg=start pg=/api/tunnels id=fa87a1e4f7889001\n",
            "2024-10-30 05:55:47.469 INFO    pyngrok.process.ngrok: t=2024-10-30T05:55:47+0000 lvl=info msg=start pg=/api/tunnels id=fa87a1e4f7889001\n",
            "INFO:pyngrok.process.ngrok:t=2024-10-30T05:55:47+0000 lvl=info msg=\"started tunnel\" obj=tunnels name=http-8501-22a98efb-cd37-4cdf-9966-71b4996b1b38 addr=http://localhost:8501 url=https://73a2-35-185-163-44.ngrok-free.app\n",
            "2024-10-30 05:55:47.651 INFO    pyngrok.process.ngrok: t=2024-10-30T05:55:47+0000 lvl=info msg=\"started tunnel\" obj=tunnels name=http-8501-22a98efb-cd37-4cdf-9966-71b4996b1b38 addr=http://localhost:8501 url=https://73a2-35-185-163-44.ngrok-free.app\n",
            "INFO:pyngrok.process.ngrok:t=2024-10-30T05:55:47+0000 lvl=info msg=end pg=/api/tunnels id=fa87a1e4f7889001 status=201 dur=195.876267ms\n",
            "2024-10-30 05:55:47.656 INFO    pyngrok.process.ngrok: t=2024-10-30T05:55:47+0000 lvl=info msg=end pg=/api/tunnels id=fa87a1e4f7889001 status=201 dur=195.876267ms\n"
          ]
        }
      ]
    },
    {
      "cell_type": "markdown",
      "source": [
        "urlを表示し、リンク先でアプリが動作することを確認します。"
      ],
      "metadata": {
        "id": "NZ0O_pNan57t"
      }
    },
    {
      "cell_type": "code",
      "source": [
        "print(url)"
      ],
      "metadata": {
        "id": "MIY7ositLAXC",
        "outputId": "55add7ca-09c8-44a0-d941-d47e4e45bdaa",
        "colab": {
          "base_uri": "https://localhost:8080/"
        }
      },
      "execution_count": 9,
      "outputs": [
        {
          "output_type": "stream",
          "name": "stdout",
          "text": [
            "https://73a2-35-185-163-44.ngrok-free.app\n"
          ]
        }
      ]
    },
    {
      "cell_type": "markdown",
      "source": [
        "## ●requirements.txtの作成\n",
        "Streamlit Cloudのサーバー上でアプリを動かすために、「requirements.txt」を作成する必要があります。  \n",
        "このファイルでは、必要なライブラリのバージョンを指定します。  \n"
      ],
      "metadata": {
        "id": "CCdXdIEWqWM4"
      }
    },
    {
      "cell_type": "markdown",
      "source": [
        "まずは、アプリでimportするライブラリのバージョンを確認します。"
      ],
      "metadata": {
        "id": "9foNw_ipq9Mv"
      }
    },
    {
      "cell_type": "code",
      "source": [
        "import streamlit\n",
        "import torch\n",
        "import torchvision\n",
        "import PIL\n",
        "import matplotlib\n",
        "\n",
        "print(\"streamlit==\" + streamlit.__version__)\n",
        "print(\"torch==\" + torch.__version__)\n",
        "print(\"torchvision==\" + torchvision.__version__)\n",
        "print(\"Pillow==\" + PIL.__version__)\n",
        "print(\"matplotlib==\" + matplotlib.__version__)"
      ],
      "metadata": {
        "id": "wzvY6S9qrCkD",
        "outputId": "80707a29-df24-46a7-c7f7-df6151a0f14c",
        "colab": {
          "base_uri": "https://localhost:8080/"
        }
      },
      "execution_count": 10,
      "outputs": [
        {
          "output_type": "stream",
          "name": "stdout",
          "text": [
            "streamlit==1.20.0\n",
            "torch==2.5.0+cu121\n",
            "torchvision==0.20.0+cu121\n",
            "Pillow==10.4.0\n",
            "matplotlib==3.7.1\n"
          ]
        }
      ]
    },
    {
      "cell_type": "markdown",
      "source": [
        "上記を参考に、各ライブラリの望ましいバージョンを記述しrequirements.txtに保存します。"
      ],
      "metadata": {
        "id": "oZ-YlfM8rt76"
      }
    },
    {
      "cell_type": "code",
      "source": [
        "with open(\"requirements.txt\", \"w\") as w:\n",
        "    w.write(\"streamlit==1.20.1\\n\")  # Streamlit Cloud上で動作が確認できたバージョン\n",
        "    w.write(\"torch==2.5.0\\n\")  # Cuda対応は要らないのでcu111は記述しない\n",
        "    w.write(\"torchvision==0.20.0\\n\")  # Cuda対応は要らないのでcu111は記述しない\n",
        "    w.write(\"Pillow==10.4.0\\n\")\n",
        "    w.write(\"matplotlib==3.7.1\\n\")"
      ],
      "metadata": {
        "id": "0h-58Ai2OO63"
      },
      "execution_count": 11,
      "outputs": []
    },
    {
      "cell_type": "markdown",
      "source": [
        "以下の作成されたファイルをダウンロードして、GitHubのレポジトリにアップしましょう。\n",
        "* app.py\n",
        "* model.py\n",
        "* requirements.txt"
      ],
      "metadata": {
        "id": "pVNwH5XOtAt-"
      }
    }
  ]
}